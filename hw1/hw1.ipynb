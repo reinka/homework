{
 "cells": [
  {
   "cell_type": "markdown",
   "metadata": {},
   "source": [
    "# Imitation Learning using Behavioural Cloning and DAgger"
   ]
  },
  {
   "cell_type": "code",
   "execution_count": 70,
   "metadata": {},
   "outputs": [
    {
     "name": "stdout",
     "output_type": "stream",
     "text": [
      "The autoreload extension is already loaded. To reload it, use:\n",
      "  %reload_ext autoreload\n"
     ]
    }
   ],
   "source": [
    "import tensorflow as tf\n",
    "import numpy as np\n",
    "import pandas as pd\n",
    "import pickle\n",
    "\n",
    "\n",
    "%load_ext autoreload\n",
    "%autoreload 2"
   ]
  },
  {
   "cell_type": "markdown",
   "metadata": {},
   "source": [
    "# Load and preprocess data"
   ]
  },
  {
   "cell_type": "code",
   "execution_count": 2,
   "metadata": {
    "collapsed": true
   },
   "outputs": [],
   "source": [
    "data = pickle.load(open('/Users/administrator/berkeleydeeprl/homework/hw1/experts/data/100rollouts.pcl', 'rb'))"
   ]
  },
  {
   "cell_type": "code",
   "execution_count": 3,
   "metadata": {},
   "outputs": [
    {
     "name": "stdout",
     "output_type": "stream",
     "text": [
      "<class 'pandas.core.frame.DataFrame'>\n",
      "RangeIndex: 100000 entries, 0 to 99999\n",
      "Data columns (total 11 columns):\n",
      "0     100000 non-null float64\n",
      "1     100000 non-null float64\n",
      "2     100000 non-null float64\n",
      "3     100000 non-null float64\n",
      "4     100000 non-null float64\n",
      "5     100000 non-null float64\n",
      "6     100000 non-null float64\n",
      "7     100000 non-null float64\n",
      "8     100000 non-null float64\n",
      "9     100000 non-null float64\n",
      "10    100000 non-null float64\n",
      "dtypes: float64(11)\n",
      "memory usage: 8.4 MB\n",
      "\n",
      "<class 'pandas.core.frame.DataFrame'>\n",
      "RangeIndex: 100000 entries, 0 to 99999\n",
      "Data columns (total 3 columns):\n",
      "0    100000 non-null float32\n",
      "1    100000 non-null float32\n",
      "2    100000 non-null float32\n",
      "dtypes: float32(3)\n",
      "memory usage: 1.1 MB\n"
     ]
    }
   ],
   "source": [
    "obs = pd.DataFrame(data['observations'])\n",
    "actions = pd.DataFrame(data['actions'][:,0])\n",
    "\n",
    "obs.info()\n",
    "print()\n",
    "actions.info()"
   ]
  },
  {
   "cell_type": "code",
   "execution_count": 4,
   "metadata": {
    "scrolled": true
   },
   "outputs": [
    {
     "data": {
      "text/plain": [
       "(11, 3)"
      ]
     },
     "execution_count": 4,
     "metadata": {},
     "output_type": "execute_result"
    }
   ],
   "source": [
    "input_dim = obs.shape[1]\n",
    "output_dim = actions.shape[1]\n",
    "\n",
    "(input_dim, output_dim)"
   ]
  },
  {
   "cell_type": "code",
   "execution_count": 5,
   "metadata": {
    "collapsed": true
   },
   "outputs": [],
   "source": [
    "from sklearn.preprocessing import StandardScaler\n",
    "from sklearn.model_selection import train_test_split\n",
    "\n",
    "trX, teX, trY, teY = train_test_split(obs.values, actions.values, test_size=.1)"
   ]
  },
  {
   "cell_type": "code",
   "execution_count": 6,
   "metadata": {},
   "outputs": [
    {
     "data": {
      "text/plain": [
       "((90000, 11), (90000, 3), (10000, 11), (10000, 3))"
      ]
     },
     "execution_count": 6,
     "metadata": {},
     "output_type": "execute_result"
    }
   ],
   "source": [
    "trX.shape, trY.shape, teX.shape, teY.shape"
   ]
  },
  {
   "cell_type": "code",
   "execution_count": 7,
   "metadata": {},
   "outputs": [],
   "source": [
    "scalerX, scalerY = StandardScaler().fit(trX), StandardScaler().fit(trY)\n",
    "\n",
    "trX = scalerX.transform(trX)\n",
    "teX = scalerX.transform(teX)\n",
    "\n",
    "trY = scalerY.transform(trY)\n",
    "teY = scalerY.transform(teY)"
   ]
  },
  {
   "cell_type": "markdown",
   "metadata": {},
   "source": [
    "# Behavioural cloning"
   ]
  },
  {
   "cell_type": "code",
   "execution_count": 8,
   "metadata": {},
   "outputs": [
    {
     "name": "stdout",
     "output_type": "stream",
     "text": [
      "_________________________________________________________________\n",
      "Layer (type)                 Output Shape              Param #   \n",
      "=================================================================\n",
      "dense (Dense)                multiple                  132       \n",
      "_________________________________________________________________\n",
      "dense_1 (Dense)              multiple                  36        \n",
      "=================================================================\n",
      "Total params: 168\n",
      "Trainable params: 168\n",
      "Non-trainable params: 0\n",
      "_________________________________________________________________\n"
     ]
    },
    {
     "data": {
      "image/png": "[encoded data removed]",
      "text/plain": [
       "<matplotlib.figure.Figure at 0x10ef9f7f0>"
      ]
     },
     "metadata": {},
     "output_type": "display_data"
    },
    {
     "name": "stderr",
     "output_type": "stream",
     "text": [
      "/Users/administrator/berkeleydeeprl/gym/gym/__init__.py:22: UserWarning: DEPRECATION WARNING: to improve load times, gym no longer automatically loads gym.spaces. Please run \"import gym.spaces\" to load gym.spaces on your own. This warning will turn into an error in a future version of gym.\n",
      "  warnings.warn('DEPRECATION WARNING: to improve load times, gym no longer automatically loads gym.spaces. Please run \"import gym.spaces\" to load gym.spaces on your own. This warning will turn into an error in a future version of gym.')\n"
     ]
    },
    {
     "data": {
      "text/plain": [
       "{'observations': array([[  1.25362090e+00,   4.21284441e-03,   2.81569689e-03, ...,\n",
       "           2.77485796e-03,   2.34102588e-03,   2.10692364e-03],\n",
       "        [  1.25309377e+00,   6.12987302e-03,   2.09639245e-03, ...,\n",
       "          -1.74434740e-01,   1.20463386e+00,   1.39073273e+00],\n",
       "        [  1.25170376e+00,   5.82280987e-03,  -2.42128835e-03, ...,\n",
       "          -9.59457627e-01,   5.26997509e-01,   2.67435817e+00],\n",
       "        ..., \n",
       "        [  1.55646613e+00,  -1.62884903e-01,   3.79360757e-03, ...,\n",
       "          -3.90338344e-03,  -1.47301757e+00,  -3.58866515e-02],\n",
       "        [  1.54316343e+00,  -1.75121164e-01,   3.76711719e-03, ...,\n",
       "          -2.78036443e-03,  -1.51536331e+00,  -2.55183116e-02],\n",
       "        [  1.52914012e+00,  -1.87510606e-01,   3.74824696e-03, ...,\n",
       "          -1.98066411e-03,  -1.55456996e+00,  -1.80915179e-02]]),\n",
       " 'rewards': array([ 376.9183385 ,  633.12755639,  632.24663547,  629.65889892,\n",
       "         663.84846312])}"
      ]
     },
     "execution_count": 8,
     "metadata": {},
     "output_type": "execute_result"
    }
   ],
   "source": [
    "from models import BaselineModel\n",
    "from util import plot_loss, play_env, policy_fn\n",
    "\n",
    "baseline_model = BaselineModel(input_dim, output_dim, \n",
    "                               scalerX=scalerX, scalerY=scalerY)\n",
    "baseline_model.compile(loss='mse', \n",
    "                       optimizer=tf.train.AdamOptimizer(learning_rate=0.001), \n",
    "                       metrics=['mse'])\n",
    "history = baseline_model.fit(trX, trY, batch_size=128, epochs=10, \n",
    "                             validation_data=[teX, teY], verbose=0)\n",
    "\n",
    "baseline_model.summary()\n",
    "plot_loss(history)\n",
    "\n",
    "envname = 'Hopper-v2'\n",
    "play_env(envname=envname, model=baseline_model)"
   ]
  },
  {
   "cell_type": "code",
   "execution_count": 9,
   "metadata": {},
   "outputs": [
    {
     "data": {
      "text/plain": [
       "False"
      ]
     },
     "execution_count": 9,
     "metadata": {},
     "output_type": "execute_result"
    }
   ],
   "source": [
    "tf.executing_eagerly()"
   ]
  },
  {
   "cell_type": "markdown",
   "metadata": {},
   "source": [
    "2. Experiment with one hyperparameter that affects the performance of the behavioral cloning agent, such\n",
    "as the number of demonstrations, the number of training epochs, the variance of the expert policy, or\n",
    "something that you come up with yourself. For one of the tasks used in the previous question, show a\n",
    "graph of how the BC agent’s performance varies with the value of this hyperparameter, and state the\n",
    "hyperparameter and a brief rationale for why you chose it in the caption for the graph."
   ]
  },
  {
   "cell_type": "markdown",
   "metadata": {},
   "source": [
    "**I chose as a hyperparameter the number of  neurons in the hidden layer. More hidden units should allow the network to map states to actions more accurately (up to some point where it probably won't lead to any improvements anymore).**"
   ]
  },
  {
   "cell_type": "code",
   "execution_count": 10,
   "metadata": {},
   "outputs": [
    {
     "name": "stdout",
     "output_type": "stream",
     "text": [
      "Hidden neurons:  8\n",
      "15/15 [==============================] - 48s 3s/step\n",
      "mean return 309.707086545\n",
      "std of return 299.260716776\n",
      "\n",
      "Hidden neurons:  16\n",
      "15/15 [==============================] - 65s 4s/step\n",
      "mean return 877.134563891\n",
      "std of return 745.994387118\n",
      "\n",
      "Hidden neurons:  32\n",
      "15/15 [==============================] - 83s 6s/step\n",
      "mean return 1358.16313703\n",
      "std of return 725.362315611\n",
      "\n",
      "Hidden neurons:  64\n",
      "15/15 [==============================] - 108s 7s/step\n",
      "mean return 2132.65910416\n",
      "std of return 1064.18060428\n",
      "\n",
      "Hidden neurons:  124\n",
      "15/15 [==============================] - 137s 9s/step\n",
      "mean return 2850.73930584\n",
      "std of return 1001.34615565\n",
      "\n"
     ]
    }
   ],
   "source": [
    "import warnings\n",
    "\n",
    "returns_dict = {}\n",
    "sample_size = 15\n",
    "with warnings.catch_warnings() as w:\n",
    "    warnings.simplefilter(\"ignore\")\n",
    "    \n",
    "    for n_hidden in [8, 16, 32, 64, 124]:\n",
    "        print('Hidden neurons: ', n_hidden)\n",
    "        \n",
    "        returns = []\n",
    "        bar = tf.keras.utils.Progbar(sample_size)\n",
    "        for i in range(sample_size):\n",
    "            bar.update(i+1)\n",
    "            model = BaselineModel(n_hidden=n_hidden, output_dim=3, \n",
    "                                  scalerX=scalerX, scalerY=scalerY)\n",
    "            model.compile(loss='mse', \n",
    "                               optimizer=tf.train.AdamOptimizer(learning_rate=0.001), \n",
    "                               metrics=['mse'])\n",
    "            history = model.fit(trX, trY, batch_size=128, epochs=5, \n",
    "                                validation_data=[teX, teY], verbose=0)\n",
    "\n",
    "            r = play_env(envname=envname, model=model)['rewards']\n",
    "            returns.append(r)\n",
    "\n",
    "        returns_dict[n_hidden] = returns\n",
    "        print('mean return', np.mean(returns))\n",
    "        print('std of return', np.std(returns))\n",
    "        print()"
   ]
  },
  {
   "cell_type": "code",
   "execution_count": 11,
   "metadata": {},
   "outputs": [],
   "source": [
    "import matplotlib.pyplot as plt\n",
    "\n",
    "data = []\n",
    "for n_hidden in returns_dict:\n",
    "    data.append(np.concatenate(returns_dict[n_hidden], 0))"
   ]
  },
  {
   "cell_type": "code",
   "execution_count": 12,
   "metadata": {},
   "outputs": [
    {
     "data": {
      "image/png": "[encoded data removed]",
      "text/plain": [
       "<matplotlib.figure.Figure at 0x13a421518>"
      ]
     },
     "metadata": {},
     "output_type": "display_data"
    }
   ],
   "source": [
    "plt.boxplot(data)\n",
    "# plt.xlabel()\n",
    "plt.show()"
   ]
  },
  {
   "cell_type": "code",
   "execution_count": 72,
   "metadata": {},
   "outputs": [
    {
     "data": {
      "text/plain": [
       "array([  309.70708654,   877.13456389,  1358.16313703,  2132.65910416,\n",
       "        2850.73930584])"
      ]
     },
     "execution_count": 72,
     "metadata": {},
     "output_type": "execute_result"
    }
   ],
   "source": [
    "np.mean(data, axis=1)"
   ]
  },
  {
   "cell_type": "code",
   "execution_count": 74,
   "metadata": {},
   "outputs": [
    {
     "data": {
      "image/png": "[encoded data removed]",
      "text/plain": [
       "<matplotlib.figure.Figure at 0x147e34668>"
      ]
     },
     "metadata": {},
     "output_type": "display_data"
    }
   ],
   "source": [
    "from util import plt_errorbars\n",
    "\n",
    "plt_errorbars([8, 16, 32, 64, 128], np.mean(data, axis=1), \n",
    "              np.std(data, axis=1)/np.sqrt(len(data)))"
   ]
  },
  {
   "cell_type": "markdown",
   "metadata": {},
   "source": [
    "# DAgger\n",
    "\n",
    "https://www.cs.cmu.edu/~sross1/publications/Ross-AIStats11-NoRegret.pdf"
   ]
  },
  {
   "cell_type": "markdown",
   "metadata": {},
   "source": [
    "1. Implement DAgger. See the code provided in run expert.py to see how to query the expert policy\n",
    "and perform roll-outs in the environment.\n",
    "2. Run DAgger and report results on one task in which DAgger can learn a better policy than behavioral\n",
    "cloning. Report your results in the form of a learning curve, plotting the number of DAgger iterations\n",
    "vs. the policy’s mean return, with error bars to show the standard deviation. Include the performance\n",
    "of the expert policy and the behavioral cloning agent on the same plot. In the caption, state which\n",
    "task you used, and any details regarding network architecture, amount of data, etc. (as in the previous\n",
    "section)."
   ]
  },
  {
   "cell_type": "code",
   "execution_count": 16,
   "metadata": {},
   "outputs": [
    {
     "data": {
      "text/plain": [
       "'/Users/administrator/berkeleydeeprl/homework/hw1'"
      ]
     },
     "execution_count": 16,
     "metadata": {},
     "output_type": "execute_result"
    }
   ],
   "source": [
    "import os\n",
    "\n",
    "os.getcwd()"
   ]
  },
  {
   "cell_type": "markdown",
   "metadata": {},
   "source": [
    "### Run expert for one episode to generate initial data"
   ]
  },
  {
   "cell_type": "code",
   "execution_count": 17,
   "metadata": {},
   "outputs": [
    {
     "name": "stdout",
     "output_type": "stream",
     "text": [
      "usage: run_expert.py [-h] [--render] [--max_timesteps MAX_TIMESTEPS]\n",
      "                     [--num_rollouts NUM_ROLLOUTS]\n",
      "                     [--expert_data_file EXPERT_DATA_FILE]\n",
      "                     expert_policy_file envname\n",
      "\n",
      "positional arguments:\n",
      "  expert_policy_file\n",
      "  envname\n",
      "\n",
      "optional arguments:\n",
      "  -h, --help            show this help message and exit\n",
      "  --render\n",
      "  --max_timesteps MAX_TIMESTEPS\n",
      "  --num_rollouts NUM_ROLLOUTS\n",
      "                        Number of expert roll outs\n",
      "  --expert_data_file EXPERT_DATA_FILE\n",
      "                        Save expert data as pickle file\n"
     ]
    }
   ],
   "source": [
    "%run run_expert.py --help"
   ]
  },
  {
   "cell_type": "code",
   "execution_count": 19,
   "metadata": {},
   "outputs": [
    {
     "name": "stdout",
     "output_type": "stream",
     "text": [
      "loading and building expert policy\n",
      "obs (1, 11) (1, 11)\n",
      "loaded and built\n",
      "0/1 [..............................] - ETA: 0s"
     ]
    },
    {
     "name": "stderr",
     "output_type": "stream",
     "text": [
      "/Users/administrator/berkeleydeeprl/gym/gym/__init__.py:22: UserWarning: DEPRECATION WARNING: to improve load times, gym no longer automatically loads gym.spaces. Please run \"import gym.spaces\" to load gym.spaces on your own. This warning will turn into an error in a future version of gym.\n",
      "  warnings.warn('DEPRECATION WARNING: to improve load times, gym no longer automatically loads gym.spaces. Please run \"import gym.spaces\" to load gym.spaces on your own. This warning will turn into an error in a future version of gym.')\n"
     ]
    },
    {
     "name": "stdout",
     "output_type": "stream",
     "text": [
      "mean return 3773.28248222\n",
      "std of return 0.0\n",
      "Expert data saved at experts/data/1rollouts.pcl\n"
     ]
    }
   ],
   "source": [
    "%run -i run_expert.py experts/Hopper-v1.pkl Hopper-v2 --num_rollouts=1 --expert_data_file experts/data/1rollouts.pcl"
   ]
  },
  {
   "cell_type": "markdown",
   "metadata": {},
   "source": [
    "### Helper function"
   ]
  },
  {
   "cell_type": "code",
   "execution_count": 29,
   "metadata": {
    "collapsed": true
   },
   "outputs": [],
   "source": [
    "import tf_util\n",
    "\n",
    "def run_expert_on_obs(obs, policy_fn):\n",
    "    with tf.Session():\n",
    "        tf_util.initialize()\n",
    "        \n",
    "        actions = []\n",
    "        \n",
    "        for o in obs:\n",
    "            a = policy_fn(o[None, :])\n",
    "            actions.append(a)\n",
    "            \n",
    "    return np.array(actions)"
   ]
  },
  {
   "cell_type": "markdown",
   "metadata": {},
   "source": [
    "### Get initial data and expert policy"
   ]
  },
  {
   "cell_type": "code",
   "execution_count": 17,
   "metadata": {},
   "outputs": [
    {
     "name": "stdout",
     "output_type": "stream",
     "text": [
      "obs (1, 11) (1, 11)\n"
     ]
    }
   ],
   "source": [
    "import load_policy\n",
    "\n",
    "initial_data = pickle.load(open('experts/data/1rollouts.pcl', 'rb'))\n",
    "expert_policy = load_policy.load_policy('experts/Hopper-v1.pkl')"
   ]
  },
  {
   "cell_type": "code",
   "execution_count": 107,
   "metadata": {},
   "outputs": [
    {
     "name": "stdout",
     "output_type": "stream",
     "text": [
      "\r",
      " 1/30 [>.............................] - ETA: 0s"
     ]
    },
    {
     "name": "stderr",
     "output_type": "stream",
     "text": [
      "/Users/administrator/berkeleydeeprl/gym/gym/__init__.py:22: UserWarning: DEPRECATION WARNING: to improve load times, gym no longer automatically loads gym.spaces. Please run \"import gym.spaces\" to load gym.spaces on your own. This warning will turn into an error in a future version of gym.\n",
      "  warnings.warn('DEPRECATION WARNING: to improve load times, gym no longer automatically loads gym.spaces. Please run \"import gym.spaces\" to load gym.spaces on your own. This warning will turn into an error in a future version of gym.')\n"
     ]
    },
    {
     "name": "stdout",
     "output_type": "stream",
     "text": [
      "30/30 [==============================] - 660s 22s/step\n"
     ]
    },
    {
     "data": {
      "image/png": "[encoded data removed]",
      "text/plain": [
       "<matplotlib.figure.Figure at 0x14ce6c4e0>"
      ]
     },
     "metadata": {},
     "output_type": "display_data"
    }
   ],
   "source": [
    "import tqdm\n",
    "import gym.spaces\n",
    "from util import train_test_scale\n",
    "\n",
    "obs = initial_data['observations']\n",
    "actions = initial_data['actions'][:, 0]\n",
    "\n",
    "n_iter = 30\n",
    "n_hidden = 64\n",
    "n_output = 3\n",
    "opt = tf.train.AdamOptimizer(learning_rate=0.001)\n",
    "\n",
    "rewards = {}\n",
    "num_rolls = 5\n",
    "\n",
    "bar = tf.keras.utils.Progbar(n_iter)\n",
    "for i in range(n_iter):\n",
    "    bar.update(i+1)\n",
    "    trX, teX, trY, teY = train_test_split(obs, actions,\n",
    "                                      test_size=.1)\n",
    "    # scale data\n",
    "    trX, teX, trY, teY, scalerX, scalerY = train_test_scale(trX, teX, trY, teY)\n",
    "    \n",
    "    policy = BaselineModel(n_hidden=n_hidden, output_dim=n_output, \n",
    "                           scalerX=scalerX, scalerY=scalerY)\n",
    "    policy.compile(loss='mse', optimizer=opt, \n",
    "                   metrics=['mse'])\n",
    "    history = policy.fit(trX, trY, batch_size=128, epochs=5, \n",
    "#                          validation_data=[teX, teY], \n",
    "                         verbose=0)\n",
    "\n",
    "    results = play_env(envname=envname, model=policy, num_rollouts=num_rolls)\n",
    "    policy_obs = results['observations']\n",
    "    rewards[i] = results['rewards']\n",
    "    \n",
    "    expert_actions = run_expert_on_obs(obs=policy_obs, policy_fn=expert_policy)\n",
    "    \n",
    "    obs = np.append(obs, policy_obs, axis=0)\n",
    "    actions = np.append(actions, expert_actions.reshape(-1, n_output), axis=0)\n",
    "    \n",
    "\n",
    "plt_errorbars(list(range(1, n_iter + 1)), np.mean(list(rewards.values()), axis=1),\n",
    "              yerr=np.std(list(rewards.values()), axis=1),\n",
    "              xlabel='Iteration')"
   ]
  },
  {
   "cell_type": "code",
   "execution_count": null,
   "metadata": {
    "collapsed": true
   },
   "outputs": [],
   "source": []
  }
 ],
 "metadata": {
  "kernelspec": {
   "display_name": "Python [conda env:rl]",
   "language": "python",
   "name": "conda-env-rl-py"
  },
  "language_info": {
   "codemirror_mode": {
    "name": "ipython",
    "version": 3
   },
   "file_extension": ".py",
   "mimetype": "text/x-python",
   "name": "python",
   "nbconvert_exporter": "python",
   "pygments_lexer": "ipython3",
   "version": "3.6.2"
  }
 },
 "nbformat": 4,
 "nbformat_minor": 2
}
